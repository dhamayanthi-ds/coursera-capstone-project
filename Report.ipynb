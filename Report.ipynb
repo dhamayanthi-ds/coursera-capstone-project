{
 "cells": [
  {
   "cell_type": "markdown",
   "metadata": {},
   "source": [
    "<h1 align=center><font size = 5>Capstone Project - The Battle of Neighborhoods (Week 1)</font></h1>"
   ]
  },
  {
   "cell_type": "markdown",
   "metadata": {},
   "source": [
    "### A description of the problem and a discussion of the background. "
   ]
  },
  {
   "cell_type": "markdown",
   "metadata": {},
   "source": [
    "A contractor is trying to start their own business in the chennai city. His problem is to find a place suitable with more number of people accesing the location."
   ]
  },
  {
   "cell_type": "markdown",
   "metadata": {},
   "source": [
    "The Chennai city area consists of 1,189 km2(459 sq mi). Chennai city (Madras), the capital City of Tamil Nadu, is the fourth largest Metropolitan City in India."
   ]
  },
  {
   "cell_type": "markdown",
   "metadata": {},
   "source": [
    "The city of Chennai is classified into three regions: North Chennai, Central Chennai and South Chennai.The city is divided on the basis of composition into four major parts: North, Central, South and West. North Chennai is primarily an industrial area while some areas are residential. Central Chennai is the commercial heart of the city and the downtown area. South Chennai and West Chennai, previously predominantly residential areas are fast turning into commercial areas, hosting a large number of IT and financial companies alone the GST Road, OMR and NH 48.North madras end on the area Red Hills."
   ]
  },
  {
   "cell_type": "markdown",
   "metadata": {},
   "source": [
    "### A description of the data and how it will be used to solve the problem. "
   ]
  },
  {
   "cell_type": "markdown",
   "metadata": {},
   "source": [
    "* Scrap data from Wikipedia page \"https://en.wikipedia.org/wiki/List_of_neighbourhoods_of_Chennai\" - This page consists of List of neighbourhoods of Chennai.\n",
    "\n",
    "* geocoder.arcgis - This library used to get geological coordinates of the neighbourhoods.\n",
    "\n",
    "* Foursquare API - Used to get venues around each neighbourhoods of chennai.\n",
    "\n"
   ]
  }
 ],
 "metadata": {
  "kernelspec": {
   "display_name": "Python",
   "language": "python",
   "name": "conda-env-python-py"
  },
  "language_info": {
   "codemirror_mode": {
    "name": "ipython",
    "version": 3
   },
   "file_extension": ".py",
   "mimetype": "text/x-python",
   "name": "python",
   "nbconvert_exporter": "python",
   "pygments_lexer": "ipython3",
   "version": "3.6.7"
  }
 },
 "nbformat": 4,
 "nbformat_minor": 4
}
