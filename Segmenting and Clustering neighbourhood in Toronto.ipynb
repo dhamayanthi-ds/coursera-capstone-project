{
    "cells": [
        {
            "cell_type": "markdown",
            "metadata": {
                "collapsed": true
            },
            "source": "# Capstone Project Notebook"
        },
        {
            "cell_type": "code",
            "execution_count": 1,
            "metadata": {},
            "outputs": [],
            "source": "import pandas as pd\nimport numpy as np"
        },
        {
            "cell_type": "markdown",
            "metadata": {},
            "source": "print(\"Hello Capstone Project Course!\")"
        },
        {
            "cell_type": "markdown",
            "metadata": {},
            "source": "## 1. Use pandas, or the BeautifulSoup package, or any other way you are comfortable with to transform the data in the table on the Wikipedia page into pandas dataframe."
        },
        {
            "cell_type": "markdown",
            "metadata": {},
            "source": "### Using Xpath and Pandas"
        },
        {
            "cell_type": "markdown",
            "metadata": {},
            "source": "### Import Libraries"
        },
        {
            "cell_type": "markdown",
            "metadata": {},
            "source": "<p>We will need requests for getting the HTML contents of the website and lxml.html for parsing the relevant fields. Finally, we will store the data on a Pandas Dataframe.</p>"
        },
        {
            "cell_type": "code",
            "execution_count": 2,
            "metadata": {},
            "outputs": [],
            "source": "import requests\nimport lxml.html as lh"
        },
        {
            "cell_type": "code",
            "execution_count": 3,
            "metadata": {},
            "outputs": [],
            "source": "url='https://en.wikipedia.org/wiki/List_of_postal_codes_of_Canada:_M'\n#Create a handle, page, to handle the contents of the website\npage = requests.get(url)\n#Store the contents of the website under doc\ndoc = lh.fromstring(page.content)\n#Parse data that are stored between <tr>..</tr> of HTML\ntr_elements = doc.xpath('//tr')\n"
        },
        {
            "cell_type": "markdown",
            "metadata": {},
            "source": "<p>For sanity check, ensure that all the rows have the same width. If not, we probably got something more than just the table.</p>"
        },
        {
            "cell_type": "code",
            "execution_count": 4,
            "metadata": {},
            "outputs": [
                {
                    "data": {
                        "text/plain": "[3, 3, 3, 3, 3, 3, 3, 3, 3, 3, 3, 3]"
                    },
                    "execution_count": 4,
                    "metadata": {},
                    "output_type": "execute_result"
                }
            ],
            "source": "#Check the length of the first 12 rows\n[len(T) for T in tr_elements[:12]]"
        },
        {
            "cell_type": "markdown",
            "metadata": {},
            "source": "Looks like all our rows have exactly 3 columns. This means all the data collected on tr_elements are from the table."
        },
        {
            "cell_type": "markdown",
            "metadata": {},
            "source": "### Parse Table Header"
        },
        {
            "cell_type": "markdown",
            "metadata": {},
            "source": "Next, let\u2019s parse the first row as our header."
        },
        {
            "cell_type": "code",
            "execution_count": 5,
            "metadata": {},
            "outputs": [
                {
                    "name": "stdout",
                    "output_type": "stream",
                    "text": "1 : Postcode\n2 : Borough\n3 : Neighbourhood\n\n"
                }
            ],
            "source": "#col.append((name,[]))\n    \n    #print(\"Total score for %s is %s\" % (name, score))\n#tr_elements = doc.xpath('//tr')\n#Create empty list\ncol=[]\ni=0\n#For each row, store each first element (header) and an empty list\nfor t in tr_elements[0]:\n    i+=1\n    name=t.text_content()\n    print (\"%d : %s\" % (i,name))\n    col.append((name,[]))      \n    \n           "
        },
        {
            "cell_type": "markdown",
            "metadata": {},
            "source": "### Creating Pandas DataFrame"
        },
        {
            "cell_type": "markdown",
            "metadata": {},
            "source": "Each header is appended to a tuple along with an empty list."
        },
        {
            "cell_type": "code",
            "execution_count": 6,
            "metadata": {},
            "outputs": [
                {
                    "name": "stdout",
                    "output_type": "stream",
                    "text": "M1A\nM2A\nM3A\nNorth York\nParkwoods\n\nM4A\nNorth York\nVictoria Village\n\nM5A\nDowntown Toronto\nHarbourfront\n\nM6A\nNorth York\nLawrence Heights\n\nM6A\nNorth York\nLawrence Manor\n\nM7A\nDowntown Toronto\nQueen's Park\n\nM8A\nM9A\nEtobicoke\nIslington Avenue\n\nM1B\nScarborough\nRouge\n\nM1B\nScarborough\nMalvern\n\nM2B\nM3B\nNorth York\nDon Mills North\n\nM4B\nEast York\nWoodbine Gardens\n\nM4B\nEast York\nParkview Hill\n\nM5B\nDowntown Toronto\nRyerson\n\nM5B\nDowntown Toronto\nGarden District\n\nM6B\nNorth York\nGlencairn\n\nM7B\nM8B\nM9B\nEtobicoke\nCloverdale\n\nM9B\nEtobicoke\nIslington\n\nM9B\nEtobicoke\nMartin Grove\n\nM9B\nEtobicoke\nPrincess Gardens\n\nM9B\nEtobicoke\nWest Deane Park\n\nM1C\nScarborough\nHighland Creek\n\nM1C\nScarborough\nRouge Hill\n\nM1C\nScarborough\nPort Union\n\nM2C\nM3C\nNorth York\nFlemingdon Park\n\nM3C\nNorth York\nDon Mills South\n\nM4C\nEast York\nWoodbine Heights\n\nM5C\nDowntown Toronto\nSt. James Town\n\nM6C\nYork\nHumewood-Cedarvale\n\nM7C\nM8C\nM9C\nEtobicoke\nBloordale Gardens\n\nM9C\nEtobicoke\nEringate\n\nM9C\nEtobicoke\nMarkland Wood\n\nM9C\nEtobicoke\nOld Burnhamthorpe\n\nM1E\nScarborough\nGuildwood\n\nM1E\nScarborough\nMorningside\n\nM1E\nScarborough\nWest Hill\n\nM2E\nM3E\nM4E\nEast Toronto\nThe Beaches\n\nM5E\nDowntown Toronto\nBerczy Park\n\nM6E\nYork\nCaledonia-Fairbanks\n\nM7E\nM8E\nM9E\nM1G\nScarborough\nWoburn\n\nM2G\nM3G\nM4G\nEast York\nLeaside\n\nM5G\nDowntown Toronto\nCentral Bay Street\n\nM6G\nDowntown Toronto\nChristie\n\nM7G\nM8G\nM9G\nM1H\nScarborough\nCedarbrae\n\nM2H\nNorth York\nHillcrest Village\n\nM3H\nNorth York\nBathurst Manor\n\nM3H\nNorth York\nDownsview North\n\nM3H\nNorth York\nWilson Heights\n\nM4H\nEast York\nThorncliffe Park\n\nM5H\nDowntown Toronto\nAdelaide\n\nM5H\nDowntown Toronto\nKing\n\nM5H\nDowntown Toronto\nRichmond\n\nM6H\nWest Toronto\nDovercourt Village\n\nM6H\nWest Toronto\nDufferin\n\nM7H\nM8H\nM9H\nM1J\nScarborough\nScarborough Village\n\nM2J\nNorth York\nFairview\n\nM2J\nNorth York\nHenry Farm\n\nM2J\nNorth York\nOriole\n\nM3J\nNorth York\nNorthwood Park\n\nM3J\nNorth York\nYork University\n\nM4J\nEast York\nEast Toronto\n\nM5J\nDowntown Toronto\nHarbourfront East\n\nM5J\nDowntown Toronto\nToronto Islands\n\nM5J\nDowntown Toronto\nUnion Station\n\nM6J\nWest Toronto\nLittle Portugal\n\nM6J\nWest Toronto\nTrinity\n\nM7J\nM8J\nM9J\nM1K\nScarborough\nEast Birchmount Park\n\nM1K\nScarborough\nIonview\n\nM1K\nScarborough\nKennedy Park\n\nM2K\nNorth York\nBayview Village\n\nM3K\nNorth York\nCFB Toronto\n\nM3K\nNorth York\nDownsview East\n\nM4K\nEast Toronto\nThe Danforth West\n\nM4K\nEast Toronto\nRiverdale\n\nM5K\nDowntown Toronto\nDesign Exchange\n\nM5K\nDowntown Toronto\nToronto Dominion Centre\n\nM6K\nWest Toronto\nBrockton\n\nM6K\nWest Toronto\nExhibition Place\n\nM6K\nWest Toronto\nParkdale Village\n\nM7K\nM8K\nM9K\nM1L\nScarborough\nClairlea\n\nM1L\nScarborough\nGolden Mile\n\nM1L\nScarborough\nOakridge\n\nM2L\nNorth York\nSilver Hills\n\nM2L\nNorth York\nYork Mills\n\nM3L\nNorth York\nDownsview West\n\nM4L\nEast Toronto\nThe Beaches West\n\nM4L\nEast Toronto\nIndia Bazaar\n\nM5L\nDowntown Toronto\nCommerce Court\n\nM5L\nDowntown Toronto\nVictoria Hotel\n\nM6L\nNorth York\nDownsview\n\nM6L\nNorth York\nNorth Park\n\nM6L\nNorth York\nUpwood Park\n\nM7L\nM8L\nM9L\nNorth York\nHumber Summit\n\nM1M\nScarborough\nCliffcrest\n\nM1M\nScarborough\nCliffside\n\nM1M\nScarborough\nScarborough Village West\n\nM2M\nNorth York\nNewtonbrook\n\nM2M\nNorth York\nWillowdale\n\nM3M\nNorth York\nDownsview Central\n\nM4M\nEast Toronto\nStudio District\n\nM5M\nNorth York\nBedford Park\n\nM5M\nNorth York\nLawrence Manor East\n\nM6M\nYork\nDel Ray\n\nM6M\nYork\nKeelesdale\n\nM6M\nYork\nMount Dennis\n\nM6M\nYork\nSilverthorn\n\nM7M\nM8M\nM9M\nNorth York\nEmery\n\nM9M\nNorth York\nHumberlea\n\nM1N\nScarborough\nBirch Cliff\n\nM1N\nScarborough\nCliffside West\n\nM2N\nNorth York\nWillowdale South\n\nM3N\nNorth York\nDownsview Northwest\n\nM4N\nCentral Toronto\nLawrence Park\n\nM5N\nCentral Toronto\nRoselawn\n\nM6N\nYork\nThe Junction North\n\nM6N\nYork\nRunnymede\n\nM7N\nM8N\nM9N\nYork\nWeston\n\nM1P\nScarborough\nDorset Park\n\nM1P\nScarborough\nScarborough Town Centre\n\nM1P\nScarborough\nWexford Heights\n\nM2P\nNorth York\nYork Mills West\n\nM3P\nM4P\nCentral Toronto\nDavisville North\n\nM5P\nCentral Toronto\nForest Hill North\n\nM5P\nCentral Toronto\nForest Hill West\n\nM6P\nWest Toronto\nHigh Park\n\nM6P\nWest Toronto\nThe Junction South\n\nM7P\nM8P\nM9P\nEtobicoke\nWestmount\n\nM1R\nScarborough\nMaryvale\n\nM1R\nScarborough\nWexford\n\nM2R\nNorth York\nWillowdale West\n\nM3R\nM4R\nCentral Toronto\nNorth Toronto West\n\nM5R\nCentral Toronto\nThe Annex\n\nM5R\nCentral Toronto\nNorth Midtown\n\nM5R\nCentral Toronto\nYorkville\n\nM6R\nWest Toronto\nParkdale\n\nM6R\nWest Toronto\nRoncesvalles\n\nM7R\nMississauga\nCanada Post Gateway Processing Centre\n\nM8R\nM9R\nEtobicoke\nKingsview Village\n\nM9R\nEtobicoke\nMartin Grove Gardens\n\nM9R\nEtobicoke\nRichview Gardens\n\nM9R\nEtobicoke\nSt. Phillips\n\nM1S\nScarborough\nAgincourt\n\nM2S\nM3S\nM4S\nCentral Toronto\nDavisville\n\nM5S\nDowntown Toronto\nHarbord\n\nM5S\nDowntown Toronto\nUniversity of Toronto\n\nM6S\nWest Toronto\nRunnymede\n\nM6S\nWest Toronto\nSwansea\n\nM7S\nM8S\nM9S\nM1T\nScarborough\nClarks Corners\n\nM1T\nScarborough\nSullivan\n\nM1T\nScarborough\nTam O'Shanter\n\nM2T\nM3T\nM4T\nCentral Toronto\nMoore Park\n\nM4T\nCentral Toronto\nSummerhill East\n\nM5T\nDowntown Toronto\nChinatown\n\nM5T\nDowntown Toronto\nGrange Park\n\nM5T\nDowntown Toronto\nKensington Market\n\nM6T\nM7T\nM8T\nM9T\nM1V\nScarborough\nAgincourt North\n\nM1V\nScarborough\nL'Amoreaux East\n\nM1V\nScarborough\nMilliken\n\nM1V\nScarborough\nSteeles East\n\nM2V\nM3V\nM4V\nCentral Toronto\nDeer Park\n\nM4V\nCentral Toronto\nForest Hill SE\n\nM4V\nCentral Toronto\nRathnelly\n\nM4V\nCentral Toronto\nSouth Hill\n\nM4V\nCentral Toronto\nSummerhill West\n\nM5V\nDowntown Toronto\nCN Tower\n\nM5V\nDowntown Toronto\nBathurst Quay\n\nM5V\nDowntown Toronto\nIsland airport\n\nM5V\nDowntown Toronto\nHarbourfront West\n\nM5V\nDowntown Toronto\nKing and Spadina\n\nM5V\nDowntown Toronto\nRailway Lands\n\nM5V\nDowntown Toronto\nSouth Niagara\n\nM6V\nM7V\nM8V\nEtobicoke\nHumber Bay Shores\n\nM8V\nEtobicoke\nMimico South\n\nM8V\nEtobicoke\nNew Toronto\n\nM9V\nEtobicoke\nAlbion Gardens\n\nM9V\nEtobicoke\nBeaumond Heights\n\nM9V\nEtobicoke\nHumbergate\n\nM9V\nEtobicoke\nJamestown\n\nM9V\nEtobicoke\nMount Olive\n\nM9V\nEtobicoke\nSilverstone\n\nM9V\nEtobicoke\nSouth Steeles\n\nM9V\nEtobicoke\nThistletown\n\nM1W\nScarborough\nL'Amoreaux West\n\nM2W\nM3W\nM4W\nDowntown Toronto\nRosedale\n\nM5W\nDowntown Toronto\nStn A PO Boxes 25 The Esplanade\n\nM6W\nM7W\nM8W\nEtobicoke\nAlderwood\n\nM8W\nEtobicoke\nLong Branch\n\nM9W\nEtobicoke\nNorthwest\n\nM1X\nScarborough\nUpper Rouge\n\nM2X\nM3X\nM4X\nDowntown Toronto\nCabbagetown\n\nM4X\nDowntown Toronto\nSt. James Town\n\nM5X\nDowntown Toronto\nFirst Canadian Place\n\nM5X\nDowntown Toronto\nUnderground city\n\nM6X\nM7X\nM8X\nEtobicoke\nThe Kingsway\n\nM8X\nEtobicoke\nMontgomery Road\n\nM8X\nEtobicoke\nOld Mill North\n\nM9X\nM1Y\nM2Y\nM3Y\nM4Y\nDowntown Toronto\nChurch and Wellesley\n\nM5Y\nM6Y\nM7Y\nEast Toronto\nBusiness Reply Mail Processing Centre 969 Eastern\n\nM8Y\nEtobicoke\nHumber Bay\n\nM8Y\nEtobicoke\nKing's Mill Park\n\nM8Y\nEtobicoke\nKingsway Park South East\n\nM8Y\nEtobicoke\nMimico NE\n\nM8Y\nEtobicoke\nOld Mill South\n\nM8Y\nEtobicoke\nThe Queensway East\n\nM8Y\nEtobicoke\nRoyal York South East\n\nM8Y\nEtobicoke\nSunnylea\n\nM9Y\nM1Z\nM2Z\nM3Z\nM4Z\nM5Z\nM6Z\nM7Z\nM8Z\nEtobicoke\nKingsway Park South West\n\nM8Z\nEtobicoke\nMimico NW\n\nM8Z\nEtobicoke\nThe Queensway West\n\nM8Z\nEtobicoke\nRoyal York South West\n\nM8Z\nEtobicoke\nSouth of Bloor\n\nM9Z\n\n\n\nCanadian postal codes\n\n\n\n\n\n\nNL\n\nNS\n\nPE\n\nNB\n\nQC\n\nON\n\nMB\n\nSK\n\nAB\n\nBC\n\nNU/NT\n\nYT\n\n\nA\n\nB\n\nC\n\nE\n\nG\n\nH\n\nJ\n\nK\n\nL\n\nM\n\nN\n\nP\n\nR\n\nS\n\nT\n\nV\n\nX\n\nY\n\n\nNL\n\nNS\n\nPE\n\nNB\n\nQC\n\nON\n\nMB\n\nSK\n\nAB\n\nBC\n\nNU/NT\n\nYT\n\nA\n\nB\n\nC\n\nE\n\nG\n\nH\n\nJ\n\nK\n\nL\n\nM\n\nN\n\nP\n\nR\n\nS\n\nT\n\nV\n\nX\n\nY\n\n"
                }
            ],
            "source": "#Since out first row is the header, data is stored on the second row onwards\nfor j in range(1,len(tr_elements)):\n    #T is our j'th row\n    #T=tr_elements[j]\n    f=0\n    for field in tr_elements[j]:\n        f+=1\n        name=field.text_content()\n        if name=='Not assigned':\n            break\n        print(name)"
        },
        {
            "cell_type": "code",
            "execution_count": 7,
            "metadata": {},
            "outputs": [],
            "source": "#Since out first row is the header, data is stored on the second row onwards\nfor j in range(1,len(tr_elements)):\n    #T is our j'th row\n    T=tr_elements[j]\n    \n    #If row is not of size 3, the //tr data is not from our table \n    if len(T)!=3:\n        break\n    \n    #i is the index of our column\n    i=0\n    \n    #Iterate through each element of the row\n    for t in T.iterchildren():\n        \n        data=t.text_content() \n        #Check if row is empty\n        if i>0:\n            #Convert any numerical value to integers\n            try:\n                data=int(data)\n            except:\n                pass\n        #Append the data to the empty list of the i'th column\n        col[i][1].append(data)\n        #Increment i for the next column\n        i+=1"
        },
        {
            "cell_type": "markdown",
            "metadata": {},
            "source": "Just to be sure, let\u2019s check the length of each column. Ideally, they should all be the same."
        },
        {
            "cell_type": "code",
            "execution_count": 8,
            "metadata": {
                "scrolled": true
            },
            "outputs": [
                {
                    "data": {
                        "text/plain": "[287, 287, 287]"
                    },
                    "execution_count": 8,
                    "metadata": {},
                    "output_type": "execute_result"
                }
            ],
            "source": "[len(C) for (title,C) in col]"
        },
        {
            "cell_type": "markdown",
            "metadata": {},
            "source": "Perfect! This shows that each of our 3 columns has exactly 287 values."
        },
        {
            "cell_type": "markdown",
            "metadata": {},
            "source": "Now we are ready to create the DataFrame:"
        },
        {
            "cell_type": "code",
            "execution_count": 9,
            "metadata": {},
            "outputs": [],
            "source": "Dict={title:column for (title,column) in col}\ndf=pd.DataFrame(Dict)"
        },
        {
            "cell_type": "markdown",
            "metadata": {},
            "source": "Looking at the top 5 cells on the DataFrame:"
        },
        {
            "cell_type": "code",
            "execution_count": 10,
            "metadata": {},
            "outputs": [
                {
                    "data": {
                        "text/html": "<div>\n<style scoped>\n    .dataframe tbody tr th:only-of-type {\n        vertical-align: middle;\n    }\n\n    .dataframe tbody tr th {\n        vertical-align: top;\n    }\n\n    .dataframe thead th {\n        text-align: right;\n    }\n</style>\n<table border=\"1\" class=\"dataframe\">\n  <thead>\n    <tr style=\"text-align: right;\">\n      <th></th>\n      <th>Postcode</th>\n      <th>Borough</th>\n      <th>Neighbourhood</th>\n    </tr>\n  </thead>\n  <tbody>\n    <tr>\n      <th>0</th>\n      <td>M1A</td>\n      <td>Not assigned</td>\n      <td>Not assigned\\n</td>\n    </tr>\n    <tr>\n      <th>1</th>\n      <td>M2A</td>\n      <td>Not assigned</td>\n      <td>Not assigned\\n</td>\n    </tr>\n    <tr>\n      <th>2</th>\n      <td>M3A</td>\n      <td>North York</td>\n      <td>Parkwoods\\n</td>\n    </tr>\n    <tr>\n      <th>3</th>\n      <td>M4A</td>\n      <td>North York</td>\n      <td>Victoria Village\\n</td>\n    </tr>\n    <tr>\n      <th>4</th>\n      <td>M5A</td>\n      <td>Downtown Toronto</td>\n      <td>Harbourfront\\n</td>\n    </tr>\n  </tbody>\n</table>\n</div>",
                        "text/plain": "  Postcode           Borough     Neighbourhood\\n\n0      M1A      Not assigned      Not assigned\\n\n1      M2A      Not assigned      Not assigned\\n\n2      M3A        North York         Parkwoods\\n\n3      M4A        North York  Victoria Village\\n\n4      M5A  Downtown Toronto      Harbourfront\\n"
                    },
                    "execution_count": 10,
                    "metadata": {},
                    "output_type": "execute_result"
                }
            ],
            "source": "df.head(5)"
        },
        {
            "cell_type": "markdown",
            "metadata": {},
            "source": "## 2. The dataframe will consist of three columns: PostalCode, Borough, and Neighborhood"
        },
        {
            "cell_type": "markdown",
            "metadata": {},
            "source": "### Renaming column names "
        },
        {
            "cell_type": "code",
            "execution_count": 11,
            "metadata": {},
            "outputs": [
                {
                    "data": {
                        "text/html": "<div>\n<style scoped>\n    .dataframe tbody tr th:only-of-type {\n        vertical-align: middle;\n    }\n\n    .dataframe tbody tr th {\n        vertical-align: top;\n    }\n\n    .dataframe thead th {\n        text-align: right;\n    }\n</style>\n<table border=\"1\" class=\"dataframe\">\n  <thead>\n    <tr style=\"text-align: right;\">\n      <th></th>\n      <th>PostalCode</th>\n      <th>Borough</th>\n      <th>Neighborhood</th>\n    </tr>\n  </thead>\n  <tbody>\n    <tr>\n      <th>0</th>\n      <td>M1A</td>\n      <td>Not assigned</td>\n      <td>Not assigned\\n</td>\n    </tr>\n    <tr>\n      <th>1</th>\n      <td>M2A</td>\n      <td>Not assigned</td>\n      <td>Not assigned\\n</td>\n    </tr>\n    <tr>\n      <th>2</th>\n      <td>M3A</td>\n      <td>North York</td>\n      <td>Parkwoods\\n</td>\n    </tr>\n    <tr>\n      <th>3</th>\n      <td>M4A</td>\n      <td>North York</td>\n      <td>Victoria Village\\n</td>\n    </tr>\n    <tr>\n      <th>4</th>\n      <td>M5A</td>\n      <td>Downtown Toronto</td>\n      <td>Harbourfront\\n</td>\n    </tr>\n  </tbody>\n</table>\n</div>",
                        "text/plain": "  PostalCode           Borough        Neighborhood\n0        M1A      Not assigned      Not assigned\\n\n1        M2A      Not assigned      Not assigned\\n\n2        M3A        North York         Parkwoods\\n\n3        M4A        North York  Victoria Village\\n\n4        M5A  Downtown Toronto      Harbourfront\\n"
                    },
                    "execution_count": 11,
                    "metadata": {},
                    "output_type": "execute_result"
                }
            ],
            "source": "df.rename(columns={'Postcode': 'PostalCode', 'Borough': 'Borough', 'Neighbourhood\\n': 'Neighborhood'}, inplace=True)\ndf.head()"
        },
        {
            "cell_type": "markdown",
            "metadata": {},
            "source": "Strip Trailing Space of the Neighbourhood column"
        },
        {
            "cell_type": "code",
            "execution_count": 12,
            "metadata": {},
            "outputs": [
                {
                    "data": {
                        "text/html": "<div>\n<style scoped>\n    .dataframe tbody tr th:only-of-type {\n        vertical-align: middle;\n    }\n\n    .dataframe tbody tr th {\n        vertical-align: top;\n    }\n\n    .dataframe thead th {\n        text-align: right;\n    }\n</style>\n<table border=\"1\" class=\"dataframe\">\n  <thead>\n    <tr style=\"text-align: right;\">\n      <th></th>\n      <th>PostalCode</th>\n      <th>Borough</th>\n      <th>Neighborhood</th>\n    </tr>\n  </thead>\n  <tbody>\n    <tr>\n      <th>0</th>\n      <td>M1A</td>\n      <td>Not assigned</td>\n      <td>Not assigned</td>\n    </tr>\n    <tr>\n      <th>1</th>\n      <td>M2A</td>\n      <td>Not assigned</td>\n      <td>Not assigned</td>\n    </tr>\n    <tr>\n      <th>2</th>\n      <td>M3A</td>\n      <td>North York</td>\n      <td>Parkwoods</td>\n    </tr>\n    <tr>\n      <th>3</th>\n      <td>M4A</td>\n      <td>North York</td>\n      <td>Victoria Village</td>\n    </tr>\n    <tr>\n      <th>4</th>\n      <td>M5A</td>\n      <td>Downtown Toronto</td>\n      <td>Harbourfront</td>\n    </tr>\n  </tbody>\n</table>\n</div>",
                        "text/plain": "  PostalCode           Borough      Neighborhood\n0        M1A      Not assigned      Not assigned\n1        M2A      Not assigned      Not assigned\n2        M3A        North York         Parkwoods\n3        M4A        North York  Victoria Village\n4        M5A  Downtown Toronto      Harbourfront"
                    },
                    "execution_count": 12,
                    "metadata": {},
                    "output_type": "execute_result"
                }
            ],
            "source": "df['Neighborhood'] = df['Neighborhood'].str.rstrip()\ndf.head()"
        },
        {
            "cell_type": "code",
            "execution_count": 13,
            "metadata": {
                "scrolled": true
            },
            "outputs": [
                {
                    "data": {
                        "text/plain": "PostalCode      object\nBorough         object\nNeighborhood    object\ndtype: object"
                    },
                    "execution_count": 13,
                    "metadata": {},
                    "output_type": "execute_result"
                }
            ],
            "source": "df.dtypes"
        },
        {
            "cell_type": "code",
            "execution_count": 14,
            "metadata": {},
            "outputs": [
                {
                    "data": {
                        "text/plain": "(287, 3)"
                    },
                    "execution_count": 14,
                    "metadata": {},
                    "output_type": "execute_result"
                }
            ],
            "source": "df.shape"
        },
        {
            "cell_type": "markdown",
            "metadata": {},
            "source": "## 3.Only processing the cells that have an assigned borough. Ignoring cells with a borough that is Not assigned."
        },
        {
            "cell_type": "code",
            "execution_count": 15,
            "metadata": {},
            "outputs": [
                {
                    "data": {
                        "text/html": "<div>\n<style scoped>\n    .dataframe tbody tr th:only-of-type {\n        vertical-align: middle;\n    }\n\n    .dataframe tbody tr th {\n        vertical-align: top;\n    }\n\n    .dataframe thead th {\n        text-align: right;\n    }\n</style>\n<table border=\"1\" class=\"dataframe\">\n  <thead>\n    <tr style=\"text-align: right;\">\n      <th></th>\n      <th>PostalCode</th>\n      <th>Borough</th>\n      <th>Neighborhood</th>\n    </tr>\n  </thead>\n  <tbody>\n    <tr>\n      <th>2</th>\n      <td>M3A</td>\n      <td>North York</td>\n      <td>Parkwoods</td>\n    </tr>\n    <tr>\n      <th>3</th>\n      <td>M4A</td>\n      <td>North York</td>\n      <td>Victoria Village</td>\n    </tr>\n    <tr>\n      <th>4</th>\n      <td>M5A</td>\n      <td>Downtown Toronto</td>\n      <td>Harbourfront</td>\n    </tr>\n    <tr>\n      <th>5</th>\n      <td>M6A</td>\n      <td>North York</td>\n      <td>Lawrence Heights</td>\n    </tr>\n    <tr>\n      <th>6</th>\n      <td>M6A</td>\n      <td>North York</td>\n      <td>Lawrence Manor</td>\n    </tr>\n  </tbody>\n</table>\n</div>",
                        "text/plain": "  PostalCode           Borough      Neighborhood\n2        M3A        North York         Parkwoods\n3        M4A        North York  Victoria Village\n4        M5A  Downtown Toronto      Harbourfront\n5        M6A        North York  Lawrence Heights\n6        M6A        North York    Lawrence Manor"
                    },
                    "execution_count": 15,
                    "metadata": {},
                    "output_type": "execute_result"
                }
            ],
            "source": "#df = df[df['Borough'] != 'Not assigned'] \n# Get names of indexes for which column Borough has value \"Not assigned\"\nindexNames = df[df['Borough'] =='Not assigned'].index\n\n# Delete these row indexes from dataFrame\ndf.drop(indexNames , inplace=True)        \ndf.head()"
        },
        {
            "cell_type": "code",
            "execution_count": 16,
            "metadata": {},
            "outputs": [
                {
                    "data": {
                        "text/plain": "(210, 3)"
                    },
                    "execution_count": 16,
                    "metadata": {},
                    "output_type": "execute_result"
                }
            ],
            "source": "df.shape"
        },
        {
            "cell_type": "markdown",
            "metadata": {},
            "source": "## 4. If a cell has a borough but a Not assigned neighborhood, then the neighborhood will be the same as the borough."
        },
        {
            "cell_type": "code",
            "execution_count": 17,
            "metadata": {
                "scrolled": true
            },
            "outputs": [
                {
                    "data": {
                        "text/html": "<div>\n<style scoped>\n    .dataframe tbody tr th:only-of-type {\n        vertical-align: middle;\n    }\n\n    .dataframe tbody tr th {\n        vertical-align: top;\n    }\n\n    .dataframe thead th {\n        text-align: right;\n    }\n</style>\n<table border=\"1\" class=\"dataframe\">\n  <thead>\n    <tr style=\"text-align: right;\">\n      <th></th>\n      <th>PostalCode</th>\n      <th>Borough</th>\n      <th>Neighborhood</th>\n    </tr>\n  </thead>\n  <tbody>\n    <tr>\n      <th>2</th>\n      <td>M3A</td>\n      <td>North York</td>\n      <td>Parkwoods</td>\n    </tr>\n    <tr>\n      <th>3</th>\n      <td>M4A</td>\n      <td>North York</td>\n      <td>Victoria Village</td>\n    </tr>\n    <tr>\n      <th>4</th>\n      <td>M5A</td>\n      <td>Downtown Toronto</td>\n      <td>Harbourfront</td>\n    </tr>\n    <tr>\n      <th>5</th>\n      <td>M6A</td>\n      <td>North York</td>\n      <td>Lawrence Heights</td>\n    </tr>\n    <tr>\n      <th>6</th>\n      <td>M6A</td>\n      <td>North York</td>\n      <td>Lawrence Manor</td>\n    </tr>\n    <tr>\n      <th>7</th>\n      <td>M7A</td>\n      <td>Downtown Toronto</td>\n      <td>Queen's Park</td>\n    </tr>\n    <tr>\n      <th>9</th>\n      <td>M9A</td>\n      <td>Etobicoke</td>\n      <td>Islington Avenue</td>\n    </tr>\n    <tr>\n      <th>10</th>\n      <td>M1B</td>\n      <td>Scarborough</td>\n      <td>Rouge</td>\n    </tr>\n    <tr>\n      <th>11</th>\n      <td>M1B</td>\n      <td>Scarborough</td>\n      <td>Malvern</td>\n    </tr>\n    <tr>\n      <th>13</th>\n      <td>M3B</td>\n      <td>North York</td>\n      <td>Don Mills North</td>\n    </tr>\n  </tbody>\n</table>\n</div>",
                        "text/plain": "   PostalCode           Borough      Neighborhood\n2         M3A        North York         Parkwoods\n3         M4A        North York  Victoria Village\n4         M5A  Downtown Toronto      Harbourfront\n5         M6A        North York  Lawrence Heights\n6         M6A        North York    Lawrence Manor\n7         M7A  Downtown Toronto      Queen's Park\n9         M9A         Etobicoke  Islington Avenue\n10        M1B       Scarborough             Rouge\n11        M1B       Scarborough           Malvern\n13        M3B        North York   Don Mills North"
                    },
                    "execution_count": 17,
                    "metadata": {},
                    "output_type": "execute_result"
                }
            ],
            "source": "#for index_label, row_series in df.iterrows():\n    #if df.at[index_label , 'Neighborhood'] == 'Not assigned':\n        #df.at[index_label , 'Neighborhood'] = df.at[index_label , 'Borough']\n        \ndf.loc[df['Neighborhood'] =='Not assigned' , 'Neighborhood'] = df['Borough']\ndf.head(10)\n "
        },
        {
            "cell_type": "code",
            "execution_count": 18,
            "metadata": {},
            "outputs": [
                {
                    "data": {
                        "text/plain": "(210, 3)"
                    },
                    "execution_count": 18,
                    "metadata": {},
                    "output_type": "execute_result"
                }
            ],
            "source": "df.shape"
        },
        {
            "cell_type": "markdown",
            "metadata": {},
            "source": "## 5.Rows with same postalcode will combined into one row with the neighborhoods separated with a comma"
        },
        {
            "cell_type": "code",
            "execution_count": 19,
            "metadata": {
                "scrolled": true
            },
            "outputs": [
                {
                    "data": {
                        "text/html": "<div>\n<style scoped>\n    .dataframe tbody tr th:only-of-type {\n        vertical-align: middle;\n    }\n\n    .dataframe tbody tr th {\n        vertical-align: top;\n    }\n\n    .dataframe thead th {\n        text-align: right;\n    }\n</style>\n<table border=\"1\" class=\"dataframe\">\n  <thead>\n    <tr style=\"text-align: right;\">\n      <th></th>\n      <th>PostalCode</th>\n      <th>Borough</th>\n      <th>Neighborhood</th>\n    </tr>\n  </thead>\n  <tbody>\n    <tr>\n      <th>0</th>\n      <td>M3A</td>\n      <td>North York</td>\n      <td>Parkwoods</td>\n    </tr>\n    <tr>\n      <th>1</th>\n      <td>M4A</td>\n      <td>North York</td>\n      <td>Victoria Village</td>\n    </tr>\n    <tr>\n      <th>2</th>\n      <td>M5A</td>\n      <td>Downtown Toronto</td>\n      <td>Harbourfront</td>\n    </tr>\n    <tr>\n      <th>3</th>\n      <td>M6A</td>\n      <td>North York</td>\n      <td>Lawrence Heights, Lawrence Manor</td>\n    </tr>\n    <tr>\n      <th>4</th>\n      <td>M7A</td>\n      <td>Downtown Toronto</td>\n      <td>Queen's Park</td>\n    </tr>\n    <tr>\n      <th>5</th>\n      <td>M9A</td>\n      <td>Etobicoke</td>\n      <td>Islington Avenue</td>\n    </tr>\n    <tr>\n      <th>6</th>\n      <td>M1B</td>\n      <td>Scarborough</td>\n      <td>Rouge, Malvern</td>\n    </tr>\n    <tr>\n      <th>7</th>\n      <td>M3B</td>\n      <td>North York</td>\n      <td>Don Mills North</td>\n    </tr>\n    <tr>\n      <th>8</th>\n      <td>M4B</td>\n      <td>East York</td>\n      <td>Woodbine Gardens, Parkview Hill</td>\n    </tr>\n    <tr>\n      <th>9</th>\n      <td>M5B</td>\n      <td>Downtown Toronto</td>\n      <td>Ryerson, Garden District</td>\n    </tr>\n  </tbody>\n</table>\n</div>",
                        "text/plain": "  PostalCode           Borough                      Neighborhood\n0        M3A        North York                         Parkwoods\n1        M4A        North York                  Victoria Village\n2        M5A  Downtown Toronto                      Harbourfront\n3        M6A        North York  Lawrence Heights, Lawrence Manor\n4        M7A  Downtown Toronto                      Queen's Park\n5        M9A         Etobicoke                  Islington Avenue\n6        M1B       Scarborough                    Rouge, Malvern\n7        M3B        North York                   Don Mills North\n8        M4B         East York   Woodbine Gardens, Parkview Hill\n9        M5B  Downtown Toronto          Ryerson, Garden District"
                    },
                    "execution_count": 19,
                    "metadata": {},
                    "output_type": "execute_result"
                }
            ],
            "source": "\n#df['Neighborhood'] = df.groupby(['PostalCode'])['Neighborhood'].transform(lambda x: ','.join(x))\n#df.drop_duplicates(inplace=True)\n\nresult = df.groupby(['PostalCode', 'Borough'], sort=False).agg(', '.join)\ndf_new = result.reset_index()\ndf_new.head(10)"
        },
        {
            "cell_type": "markdown",
            "metadata": {},
            "source": "## 6.Use the .shape method to print the number of rows of your dataframe."
        },
        {
            "cell_type": "code",
            "execution_count": 21,
            "metadata": {},
            "outputs": [
                {
                    "data": {
                        "text/plain": "(103, 3)"
                    },
                    "execution_count": 21,
                    "metadata": {},
                    "output_type": "execute_result"
                }
            ],
            "source": "df_new.shape"
        },
        {
            "cell_type": "code",
            "execution_count": null,
            "metadata": {},
            "outputs": [],
            "source": ""
        }
    ],
    "metadata": {
        "kernelspec": {
            "display_name": "Python 3.6",
            "language": "python",
            "name": "python3"
        },
        "language_info": {
            "codemirror_mode": {
                "name": "ipython",
                "version": 3
            },
            "file_extension": ".py",
            "mimetype": "text/x-python",
            "name": "python",
            "nbconvert_exporter": "python",
            "pygments_lexer": "ipython3",
            "version": "3.6.9"
        }
    },
    "nbformat": 4,
    "nbformat_minor": 1
}